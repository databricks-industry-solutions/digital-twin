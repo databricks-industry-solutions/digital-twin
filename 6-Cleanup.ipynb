{
 "cells": [
  {
   "cell_type": "markdown",
   "metadata": {
    "application/vnd.databricks.v1+cell": {
     "cellMetadata": {},
     "inputWidgets": {},
     "nuid": "08ec4038-7d95-44d5-8358-12fee96ede3d",
     "showTitle": false,
     "tableResultSettingsMap": {},
     "title": ""
    }
   },
   "source": [
    "## Cleanup demo assets\n",
    "This notebook is not an important part of the accelerator, it is simply provided as a convenient way to tear down all the resources created along the way."
   ]
  },
  {
   "cell_type": "code",
   "execution_count": 0,
   "metadata": {
    "application/vnd.databricks.v1+cell": {
     "cellMetadata": {
      "byteLimit": 2048000,
      "rowLimit": 10000
     },
     "collapsed": true,
     "inputWidgets": {},
     "nuid": "c8eb791b-8776-4881-bb32-8cc6ffa9bf10",
     "showTitle": false,
     "tableResultSettingsMap": {},
     "title": ""
    }
   },
   "outputs": [],
   "source": [
    "%run ./0-Parameters"
   ]
  },
  {
   "cell_type": "code",
   "execution_count": 0,
   "metadata": {
    "application/vnd.databricks.v1+cell": {
     "cellMetadata": {
      "byteLimit": 2048000,
      "rowLimit": 10000
     },
     "inputWidgets": {},
     "nuid": "a228f09b-6bfe-43a3-8c74-c4264588fa70",
     "showTitle": false,
     "tableResultSettingsMap": {},
     "title": ""
    }
   },
   "outputs": [],
   "source": [
    "from databricks.sdk import WorkspaceClient\n",
    "from databricks.sdk.errors.platform import NotFound\n",
    "\n",
    "w = WorkspaceClient()"
   ]
  },
  {
   "cell_type": "code",
   "execution_count": 0,
   "metadata": {
    "application/vnd.databricks.v1+cell": {
     "cellMetadata": {
      "byteLimit": 2048000,
      "rowLimit": 10000
     },
     "inputWidgets": {},
     "nuid": "8fa52a43-63c9-4373-a457-413e33905793",
     "showTitle": true,
     "tableResultSettingsMap": {},
     "title": "Remove serving app"
    }
   },
   "outputs": [],
   "source": [
    "try:\n",
    "    app = w.apps.delete(APP_NAME)\n",
    "    print(f\"App {app.name} deleted\")\n",
    "except NotFound:\n",
    "    print(f\"App {APP_NAME} does not exist\")"
   ]
  },
  {
   "cell_type": "code",
   "execution_count": 0,
   "metadata": {
    "application/vnd.databricks.v1+cell": {
     "cellMetadata": {
      "byteLimit": 2048000,
      "rowLimit": 10000
     },
     "inputWidgets": {},
     "nuid": "8f2be179-78f1-4711-a860-9875ec4a87f1",
     "showTitle": true,
     "tableResultSettingsMap": {},
     "title": "Delete synced table"
    }
   },
   "outputs": [],
   "source": [
    "try:\n",
    "    w.database.delete_synced_database_table(SYNCED_TABLE_FULL_NAME)\n",
    "    print(f\"Table {SYNCED_TABLE_FULL_NAME} deleted\")\n",
    "except NotFound:\n",
    "    print(f\"Table {SYNCED_TABLE_FULL_NAME} does not exist\")"
   ]
  },
  {
   "cell_type": "code",
   "execution_count": 0,
   "metadata": {
    "application/vnd.databricks.v1+cell": {
     "cellMetadata": {
      "byteLimit": 2048000,
      "rowLimit": 10000
     },
     "inputWidgets": {},
     "nuid": "0cc4034d-44b8-4bc9-92a4-36242d311da9",
     "showTitle": true,
     "tableResultSettingsMap": {},
     "title": "Delete database instance"
    }
   },
   "outputs": [],
   "source": [
    "try:\n",
    "    w.database.delete_database_instance(INSTANCE_NAME, purge=True)\n",
    "    print(f\"Database instance {INSTANCE_NAME} deleted\")\n",
    "except NotFound:\n",
    "    print(f\"Database instance {INSTANCE_NAME} does not exist\")"
   ]
  },
  {
   "cell_type": "code",
   "execution_count": 0,
   "metadata": {
    "application/vnd.databricks.v1+cell": {
     "cellMetadata": {},
     "inputWidgets": {},
     "nuid": "244ab996-abd4-49f5-836d-e34190a89cf8",
     "showTitle": true,
     "tableResultSettingsMap": {},
     "title": "Delete mapping pipeline"
    }
   },
   "outputs": [],
   "source": [
    "try:\n",
    "    pipeline = next(w.pipelines.list_pipelines(filter=f\"name LIKE '{MAPPING_PIPELINE_NAME}'\"))\n",
    "    w.pipelines.delete(pipeline_id=pipeline.pipeline_id)\n",
    "    print(f\"Pipeline {MAPPING_PIPELINE_NAME} ({pipeline.pipeline_id}) deleted\")\n",
    "except StopIteration:\n",
    "    print(f\"Pipeline {MAPPING_PIPELINE_NAME} does not exist\")"
   ]
  },
  {
   "cell_type": "code",
   "execution_count": 0,
   "metadata": {
    "application/vnd.databricks.v1+cell": {
     "cellMetadata": {
      "byteLimit": 2048000,
      "rowLimit": 10000
     },
     "inputWidgets": {},
     "nuid": "e40b4639-2ef8-4994-8c15-0595dd852664",
     "showTitle": true,
     "tableResultSettingsMap": {},
     "title": "Drop Bronze and Triples tables"
    }
   },
   "outputs": [],
   "source": [
    "spark.sql(f\"DROP TABLE IF EXISTS {BRONZE_TABLE}\")\n",
    "spark.sql(f\"DROP TABLE IF EXISTS {TRIPLE_TABLE_FULL_NAME}\")"
   ]
  }
 ],
 "metadata": {
  "application/vnd.databricks.v1+notebook": {
   "computePreferences": null,
   "dashboards": [],
   "environmentMetadata": {
    "base_environment": "",
    "environment_version": "3"
   },
   "inputWidgetPreferences": null,
   "language": "python",
   "notebookMetadata": {
    "pythonIndentUnit": 4
   },
   "notebookName": "6-Cleanup",
   "widgets": {}
  },
  "language_info": {
   "name": "python"
  }
 },
 "nbformat": 4,
 "nbformat_minor": 0
}
