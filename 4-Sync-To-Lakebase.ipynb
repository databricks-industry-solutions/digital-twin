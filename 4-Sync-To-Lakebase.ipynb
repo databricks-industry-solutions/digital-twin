{
 "cells": [
  {
   "cell_type": "code",
   "execution_count": 0,
   "metadata": {
    "application/vnd.databricks.v1+cell": {
     "cellMetadata": {
      "byteLimit": 2048000,
      "rowLimit": 10000
     },
     "collapsed": true,
     "inputWidgets": {},
     "nuid": "b52c1ceb-3eee-46e0-bec3-64bee10d94e3",
     "showTitle": true,
     "tableResultSettingsMap": {},
     "title": "Install packages"
    }
   },
   "outputs": [],
   "source": [
    "%pip install --upgrade databricks-sdk>=0.61.0\n",
    "%restart_python"
   ]
  },
  {
   "cell_type": "code",
   "execution_count": 0,
   "metadata": {
    "application/vnd.databricks.v1+cell": {
     "cellMetadata": {
      "byteLimit": 2048000,
      "rowLimit": 10000
     },
     "inputWidgets": {},
     "nuid": "f0dd36ce-433e-4986-8495-ac7a01629576",
     "showTitle": true,
     "tableResultSettingsMap": {},
     "title": "Import common parameters"
    },
    "jupyter": {
     "outputs_hidden": true
    }
   },
   "outputs": [],
   "source": [
    "%run ./0-Parameters"
   ]
  },
  {
   "cell_type": "code",
   "execution_count": 0,
   "metadata": {
    "application/vnd.databricks.v1+cell": {
     "cellMetadata": {
      "byteLimit": 2048000,
      "rowLimit": 10000
     },
     "inputWidgets": {},
     "nuid": "b5780c65-b75e-4f5c-9ed0-fb4cfcb8daca",
     "showTitle": true,
     "tableResultSettingsMap": {},
     "title": "Imports"
    }
   },
   "outputs": [],
   "source": [
    "from databricks.sdk import WorkspaceClient\n",
    "from databricks.sdk.service.database import DatabaseInstance, SyncedDatabaseTable, SyncedTableSpec, NewPipelineSpec, SyncedTableSchedulingPolicy\n",
    "from databricks.sdk.errors.platform import NotFound\n",
    "\n",
    "w = WorkspaceClient()"
   ]
  },
  {
   "cell_type": "code",
   "execution_count": 0,
   "metadata": {
    "application/vnd.databricks.v1+cell": {
     "cellMetadata": {
      "byteLimit": 2048000,
      "rowLimit": 10000
     },
     "inputWidgets": {},
     "nuid": "cdbc7e0f-5d38-4572-af0e-276cdf87d3a1",
     "showTitle": true,
     "tableResultSettingsMap": {},
     "title": "Create database instance"
    }
   },
   "outputs": [],
   "source": [
    "try:\n",
    "    instance = w.database.get_database_instance(INSTANCE_NAME)\n",
    "    print(f\"Database instance {INSTANCE_NAME} already exists\")\n",
    "except NotFound:\n",
    "    instance = w.database.create_database_instance(\n",
    "        DatabaseInstance(name=INSTANCE_NAME, capacity=\"CU_1\")\n",
    "    )\n",
    "    print(f\"Created database instance: {instance.name}\")"
   ]
  },
  {
   "cell_type": "code",
   "execution_count": 0,
   "metadata": {
    "application/vnd.databricks.v1+cell": {
     "cellMetadata": {
      "byteLimit": 2048000,
      "rowLimit": 10000
     },
     "inputWidgets": {},
     "nuid": "b5ee3275-ae3f-458e-9532-7ef41d850ea1",
     "showTitle": true,
     "tableResultSettingsMap": {},
     "title": "Create synced table"
    }
   },
   "outputs": [],
   "source": [
    "sdb = SyncedDatabaseTable(\n",
    "    name=SYNCED_TABLE_FULL_NAME_PG,\n",
    "    database_instance_name=INSTANCE_NAME,\n",
    "    logical_database_name=INSTANCE_NAME,\n",
    "    spec=SyncedTableSpec(\n",
    "        create_database_objects_if_missing=True,\n",
    "        new_pipeline_spec=NewPipelineSpec(),\n",
    "        primary_key_columns=[\"s\", \"p\"],\n",
    "        scheduling_policy=SyncedTableSchedulingPolicy.SNAPSHOT,\n",
    "        timeseries_key=\"timestamp\",\n",
    "        source_table_full_name=TRIPLE_TABLE_FULL_NAME_UC,\n",
    "    ),\n",
    ")\n",
    "\n",
    "try:\n",
    "    w.database.get_synced_database_table(sdb.name)\n",
    "    print(f\"Synced table {sdb.name} already exists\")\n",
    "except NotFound:\n",
    "    w.database.create_synced_database_table(sdb)\n",
    "    print(f\"Created synced table {sdb.name}\")"
   ]
  }
 ],
 "metadata": {
  "application/vnd.databricks.v1+notebook": {
   "computePreferences": {
    "hardware": {
     "accelerator": null,
     "gpuPoolId": null,
     "memory": null
    }
   },
   "dashboards": [],
   "environmentMetadata": {
    "base_environment": "",
    "dependencies": [
     "data"
    ],
    "environment_version": "3"
   },
   "inputWidgetPreferences": null,
   "language": "python",
   "notebookMetadata": {
    "pythonIndentUnit": 2
   },
   "notebookName": "4-Sync-To-Lakebase",
   "widgets": {}
  },
  "language_info": {
   "name": "python"
  }
 },
 "nbformat": 4,
 "nbformat_minor": 0
}
