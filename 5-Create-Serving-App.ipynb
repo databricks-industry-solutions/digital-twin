{
 "cells": [
  {
   "cell_type": "code",
   "execution_count": 0,
   "metadata": {
    "application/vnd.databricks.v1+cell": {
     "cellMetadata": {
      "byteLimit": 2048000,
      "rowLimit": 10000
     },
     "collapsed": true,
     "inputWidgets": {},
     "nuid": "b52c1ceb-3eee-46e0-bec3-64bee10d94e3",
     "showTitle": true,
     "tableResultSettingsMap": {},
     "title": "Install packages"
    }
   },
   "outputs": [],
   "source": [
    "%pip install --upgrade databricks-sdk>=0.61.0 psycopg\n",
    "%restart_python"
   ]
  },
  {
   "cell_type": "code",
   "execution_count": 0,
   "metadata": {
    "application/vnd.databricks.v1+cell": {
     "cellMetadata": {
      "byteLimit": 2048000,
      "rowLimit": 10000
     },
     "inputWidgets": {},
     "nuid": "1ca85dd7-172b-4c99-90c9-92fc0b9becb6",
     "showTitle": true,
     "tableResultSettingsMap": {},
     "title": "Import common paramters"
    },
    "jupyter": {
     "outputs_hidden": true
    }
   },
   "outputs": [],
   "source": [
    "%run ./0-Parameters"
   ]
  },
  {
   "cell_type": "code",
   "execution_count": 0,
   "metadata": {
    "application/vnd.databricks.v1+cell": {
     "cellMetadata": {
      "byteLimit": 2048000,
      "rowLimit": 10000
     },
     "inputWidgets": {},
     "nuid": "b5780c65-b75e-4f5c-9ed0-fb4cfcb8daca",
     "showTitle": true,
     "tableResultSettingsMap": {},
     "title": "Imports"
    }
   },
   "outputs": [],
   "source": [
    "from databricks.sdk import WorkspaceClient\n",
    "from databricks.sdk.errors.platform import NotFound\n",
    "from databricks.sdk.service.apps import App, AppResource, AppResourceDatabase, AppResourceDatabaseDatabasePermission, AppResourceSqlWarehouse, AppResourceSqlWarehouseSqlWarehousePermission\n",
    "from databricks.sdk.service.catalog import PermissionsChange, Privilege\n",
    "import psycopg\n",
    "import uuid\n",
    "\n",
    "w = WorkspaceClient()"
   ]
  },
  {
   "cell_type": "code",
   "execution_count": 0,
   "metadata": {
    "application/vnd.databricks.v1+cell": {
     "cellMetadata": {
      "byteLimit": 2048000,
      "rowLimit": 10000
     },
     "inputWidgets": {},
     "nuid": "7d9dda38-49a5-4d0a-b188-fdc2c7850631",
     "showTitle": true,
     "tableResultSettingsMap": {},
     "title": "Create app"
    }
   },
   "outputs": [],
   "source": [
    "app_conf = App(\n",
    "    name=APP_NAME,\n",
    "    default_source_code_path=APP_SRC_CODE_PATH,\n",
    "    description=\"SPARQL query frontend\",\n",
    "    # effective_user_api_scopes=[\"iam.current-user:read\", \"iam.access-control:read\"],\n",
    "    resources=[\n",
    "        AppResource(\n",
    "            name=\"database\",\n",
    "            database=AppResourceDatabase(\n",
    "                instance_name=INSTANCE_NAME,\n",
    "                database_name=PG_DATABASE_NAME,\n",
    "                permission=AppResourceDatabaseDatabasePermission.CAN_CONNECT_AND_CREATE,\n",
    "            ),\n",
    "            description=\"Low latency serving of latest triples.\",\n",
    "        ),\n",
    "        AppResource(\n",
    "            name=\"sql_warehouse\",\n",
    "            sql_warehouse=AppResourceSqlWarehouse(\n",
    "                id=WAREHOUSE_ID,\n",
    "                permission=AppResourceSqlWarehouseSqlWarehousePermission.CAN_USE,\n",
    "            ),\n",
    "        ),\n",
    "    ],\n",
    ")\n",
    "\n",
    "try:\n",
    "    app = w.apps.get(APP_NAME)\n",
    "    print(f\"App {app.name} already exists\")\n",
    "except NotFound:\n",
    "    app = w.apps.create_and_wait(app_conf)\n",
    "    print(f\"Created app {app.name}\")"
   ]
  },
  {
   "cell_type": "code",
   "execution_count": 0,
   "metadata": {
    "application/vnd.databricks.v1+cell": {
     "cellMetadata": {
      "byteLimit": 2048000,
      "rowLimit": 10000
     },
     "inputWidgets": {},
     "nuid": "cad51573-a751-470a-8d0d-896bdcef9e7d",
     "showTitle": true,
     "tableResultSettingsMap": {},
     "title": "Grant app SP access to the tables"
    }
   },
   "outputs": [],
   "source": [
    "r1 = w.grants.update(\n",
    "    \"TABLE\",\n",
    "    SYNCED_TABLE_FULL_NAME,\n",
    "    changes=[\n",
    "        PermissionsChange(\n",
    "            principal=app.service_principal_client_id,\n",
    "            add=[Privilege.SELECT],\n",
    "        )\n",
    "    ],\n",
    ")\n",
    "\n",
    "r2 = w.grants.update(\n",
    "    \"TABLE\",\n",
    "    SRC_TABLE_FULL_NAME,\n",
    "    changes=[\n",
    "        PermissionsChange(\n",
    "            principal=app.service_principal_client_id,\n",
    "            add=[Privilege.SELECT],\n",
    "        )\n",
    "    ],\n",
    ")"
   ]
  },
  {
   "cell_type": "code",
   "execution_count": 0,
   "metadata": {
    "application/vnd.databricks.v1+cell": {
     "cellMetadata": {
      "byteLimit": 2048000,
      "rowLimit": 10000
     },
     "inputWidgets": {},
     "nuid": "019cf62d-0116-48fb-af4e-adda251c0736",
     "showTitle": true,
     "tableResultSettingsMap": {},
     "title": "Grant app SP access to synced table"
    }
   },
   "outputs": [],
   "source": [
    "instance = w.database.get_database_instance(INSTANCE_NAME)\n",
    "cred = w.database.generate_database_credential(\n",
    "    request_id=str(uuid.uuid4()), instance_names=[instance.name]\n",
    ")\n",
    "current_user = (\n",
    "    dbutils.notebook.entry_point.getDbutils()\n",
    "    .notebook()\n",
    "    .getContext()\n",
    "    .userName()\n",
    "    .getOrElse(None)\n",
    ")\n",
    "\n",
    "conn_conf = {\n",
    "    \"host\": instance.read_write_dns,\n",
    "    \"port\": 5432,\n",
    "    \"dbname\": PG_DATABASE_NAME,\n",
    "    \"user\": current_user,\n",
    "    \"password\": cred.token,\n",
    "    \"sslmode\": \"require\",\n",
    "    \"autocommit\": True,\n",
    "}\n",
    "\n",
    "grants = f\"\"\"\n",
    "GRANT USAGE ON SCHEMA {SYNCED_TABLE_SCHEMA} TO \"{app.service_principal_client_id}\";\n",
    "GRANT SELECT ON TABLE {SYNCED_TABLE_SCHEMA}.{SYNCED_TABLE_NAME} TO \"{app.service_principal_client_id}\";\n",
    "\"\"\"\n",
    "\n",
    "with psycopg.connect(**conn_conf) as conn:\n",
    "    with conn.cursor() as cur:\n",
    "        cur.execute(grants)"
   ]
  }
 ],
 "metadata": {
  "application/vnd.databricks.v1+notebook": {
   "computePreferences": {
    "hardware": {
     "accelerator": null,
     "gpuPoolId": null,
     "memory": null
    }
   },
   "dashboards": [],
   "environmentMetadata": {
    "base_environment": "",
    "dependencies": [
     "data"
    ],
    "environment_version": "3"
   },
   "inputWidgetPreferences": null,
   "language": "python",
   "notebookMetadata": {
    "pythonIndentUnit": 2
   },
   "notebookName": "5-Create-Serving-App",
   "widgets": {}
  },
  "language_info": {
   "name": "python"
  }
 },
 "nbformat": 4,
 "nbformat_minor": 0
}
