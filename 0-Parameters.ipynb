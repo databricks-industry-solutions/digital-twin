{
 "cells": [
  {
   "cell_type": "markdown",
   "metadata": {
    "application/vnd.databricks.v1+cell": {
     "cellMetadata": {},
     "inputWidgets": {},
     "nuid": "80911a51-f640-4945-a747-dc14b4ac1e39",
     "showTitle": false,
     "tableResultSettingsMap": {},
     "title": ""
    }
   },
   "source": [
    "## Parameters\n",
    "This notebook contains the parameters needed to customise the solution accelerator to you environment. Be sure to modify them before starting to ensure that the accelerator deploys correctly."
   ]
  },
  {
   "metadata": {},
   "cell_type": "code",
   "outputs": [],
   "execution_count": null,
   "source": "BRONZE_TABLE = \"shinkansen.default.joshua_green\""
  },
  {
   "metadata": {},
   "cell_type": "code",
   "outputs": [],
   "execution_count": null,
   "source": [
    "PAT = \"\"\n",
    "WORKSPACE_URL = \"https://dbc-e2f0eb31-2b0e.staging.cloud.databricks.com\"\n",
    "ZEROBUS_URL = \"ingest.staging.cloud.databricks.com\""
   ]
  },
  {
   "metadata": {},
   "cell_type": "code",
   "outputs": [],
   "execution_count": null,
   "source": [
    "MAPPING_PIPELINE_NAME = \"digital-twins-mapping\"\n",
    "TRIPLE_CATALOG = \"main\"\n",
    "TRIPLE_SCHEMA = \"joshua_green\"\n",
    "TRIPLE_TABLE = \"triples\""
   ]
  },
  {
   "metadata": {},
   "cell_type": "code",
   "outputs": [],
   "execution_count": null,
   "source": [
    "INSTANCE_NAME = \"digitwin\"\n",
    "PG_DATABASE_NAME = \"digitwin\"\n",
    "SYNCED_TABLE_CATALOG = \"main\"\n",
    "SYNCED_TABLE_SCHEMA = \"joshua_green\"\n",
    "SYNCED_TABLE_NAME = \"latest_sensor_triples\"\n",
    "SYNCED_TABLE_FULL_NAME = f\"{SYNCED_TABLE_CATALOG}.{SYNCED_TABLE_SCHEMA}.{SYNCED_TABLE_NAME}\"\n",
    "TRIPLE_TABLE_FULL_NAME = f\"{TRIPLE_CATALOG}.{TRIPLE_SCHEMA}.{TRIPLE_TABLE}\"\n",
    "\n"
   ]
  },
  {
   "metadata": {},
   "cell_type": "code",
   "outputs": [],
   "execution_count": null,
   "source": [
    "APP_NAME = \"digital-twins-app\"\n",
    "APP_SRC_CODE_PATH = \"/Workspace/Users/joshua.green@databricks.com/databricks_apps/triple-serving_2025_07_29-14_54/flask-database-app\"\n",
    "WAREHOUSE_ID = \"dd43ee29fedd958d\""
   ]
  }
 ],
 "metadata": {
  "application/vnd.databricks.v1+notebook": {
   "computePreferences": null,
   "dashboards": [],
   "environmentMetadata": {
    "base_environment": "",
    "environment_version": "3"
   },
   "inputWidgetPreferences": null,
   "language": "python",
   "notebookMetadata": {
    "pythonIndentUnit": 2
   },
   "notebookName": "0-Parameters",
   "widgets": {}
  },
  "language_info": {
   "name": "python"
  }
 },
 "nbformat": 4,
 "nbformat_minor": 0
}
