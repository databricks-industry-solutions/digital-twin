{
 "cells": [
  {
   "cell_type": "markdown",
   "metadata": {
    "application/vnd.databricks.v1+cell": {
     "cellMetadata": {},
     "inputWidgets": {},
     "nuid": "80911a51-f640-4945-a747-dc14b4ac1e39",
     "showTitle": false,
     "tableResultSettingsMap": {},
     "title": ""
    }
   },
   "source": [
    "## Parameters\n",
    "This notebook contains the parameters needed to customise the solution accelerator to you environment. Be sure to modify them before starting to ensure that the accelerator deploys correctly."
   ]
  },
  {
   "cell_type": "markdown",
   "metadata": {
    "application/vnd.databricks.v1+cell": {
     "cellMetadata": {},
     "inputWidgets": {},
     "nuid": "3609d9a6-beaf-4954-96c0-dd1564f94a7e",
     "showTitle": false,
     "tableResultSettingsMap": {},
     "title": ""
    }
   },
   "source": [
    "#### Notebook 1 & 2: Sensor data generation & Zerobus ingestion  \n",
    "##### Provide required information\n",
    "\n",
    "To use the Zerobus Ingest SDK you will need the following information:\n",
    "\n",
    "- Your table name\n",
    "  - Identify the target table you want to ingest data to. This is the table created in the notebook \"1. Create-Sensor-Bronze-Table\"\n",
    "\n",
    "- Databricks Workspace URL \n",
    "  - Get your workspace URL. When viewing your Databricks workspace after logging in, take a look at the URL in your browser with the following format: https://_your_databricks-instance_.com/o=XXXXX. The URL that you require is everything before the “/o=XXXXX”\n",
    "\n",
    "- Zerobus Host \n",
    "  - Zerobus URI = _workspace_id_.ingest.cloud.databricks.com. Databricks will provide you with this URL\n",
    "\n",
    "- Service Principal --->  _For the following steps you need to be a workspace admin. If you are not an admin, ask to the appropriate person in your organization_\n",
    "  - Go to Settings > Identity and Access.\n",
    "  - Generate and save client ID and secret for that Service Principal."
   ]
  },
  {
   "cell_type": "code",
   "execution_count": 0,
   "metadata": {
    "application/vnd.databricks.v1+cell": {
     "cellMetadata": {
      "byteLimit": 2048000,
      "rowLimit": 10000
     },
     "inputWidgets": {},
     "nuid": "0103a284-4689-4fae-9271-ba82e2fb961f",
     "showTitle": false,
     "tableResultSettingsMap": {},
     "title": ""
    }
   },
   "outputs": [],
   "source": [
    "CATALOG= \"your-catalog\"\n",
    "SCHEMA = \"your-schema\"\n",
    "BRONZE_TABLE_NAME = \"bronze_table\"\n",
    "\n",
    "# do not edit the BRONZE_TABLE definition below \n",
    "BRONZE_TABLE = f\"{CATALOG}.{SCHEMA}.{BRONZE_TABLE_NAME}\""
   ]
  },
  {
   "cell_type": "code",
   "execution_count": 0,
   "metadata": {
    "application/vnd.databricks.v1+cell": {
     "cellMetadata": {},
     "inputWidgets": {},
     "nuid": "206bacd3-f65d-4483-bd09-d1c3a9be0a4a",
     "showTitle": false,
     "tableResultSettingsMap": {},
     "title": ""
    }
   },
   "outputs": [],
   "source": [
    "CLIENT_ID = \"your_client_ID\"\n",
    "CLIENT_SECRET= \"your_client_secret\"\n",
    "WORKSPACE_URL = \"your_workspace_url\"\n",
    "ZEROBUS_URL = \"your_zerobus_url\""
   ]
  },
  {
   "cell_type": "markdown",
   "metadata": {
    "application/vnd.databricks.v1+cell": {
     "cellMetadata": {},
     "inputWidgets": {},
     "nuid": "2e6c20b5-4180-4760-90d0-e35678016ec8",
     "showTitle": false,
     "tableResultSettingsMap": {},
     "title": ""
    }
   },
   "source": [
    "#### Notebook 3: Mapping pipeline "
   ]
  },
  {
   "cell_type": "code",
   "execution_count": 0,
   "metadata": {
    "application/vnd.databricks.v1+cell": {
     "cellMetadata": {},
     "inputWidgets": {},
     "nuid": "8a8b8d45-c4bb-47c5-9237-5bc600581beb",
     "showTitle": false,
     "tableResultSettingsMap": {},
     "title": ""
    }
   },
   "outputs": [],
   "source": [
    "MAPPING_PIPELINE_NAME = \"name-for-your-sdp-pipeline\"\n",
    "TRIPLE_CATALOG = CATALOG\n",
    "TRIPLE_SCHEMA = SCHEMA\n",
    "TRIPLE_TABLE_NAME = \"triples\"\n",
    "\n",
    "# do not edit the TRIPLE_TABLE definition \n",
    "TRIPLE_TABLE = f\"{CATALOG}.{SCHEMA}.{TRIPLE_TABLE_NAME}\""
   ]
  },
  {
   "cell_type": "markdown",
   "metadata": {
    "application/vnd.databricks.v1+cell": {
     "cellMetadata": {},
     "inputWidgets": {},
     "nuid": "eb07ccec-0d53-4944-b5cf-e369b4e60855",
     "showTitle": false,
     "tableResultSettingsMap": {},
     "title": ""
    }
   },
   "source": [
    "#### Notebook 4 & 5: Setup Lakebase & front-end app "
   ]
  },
  {
   "cell_type": "code",
   "execution_count": 0,
   "metadata": {
    "application/vnd.databricks.v1+cell": {
     "cellMetadata": {},
     "inputWidgets": {},
     "nuid": "97ea0c34-6cb5-4446-b9ed-7a2bb31057c3",
     "showTitle": false,
     "tableResultSettingsMap": {},
     "title": ""
    }
   },
   "outputs": [],
   "source": [
    "INSTANCE_NAME = \"lakebase-instance-name\" #ensure the instance name contains only alphanumeric characters and hyphens.\n",
    "SYNCED_TABLE_CATALOG = CATALOG \n",
    "SYNCED_TABLE_SCHEMA = SCHEMA\n",
    "SYNCED_TABLE_NAME = \"latest_sensor_triples\"\n",
    "SYNCED_TABLE_FULL_NAME_UC = f\"{SYNCED_TABLE_CATALOG}.{SYNCED_TABLE_SCHEMA}.{SYNCED_TABLE_NAME}\"\n",
    "SYNCED_TABLE_FULL_NAME_PG = f\"{INSTANCE_NAME}.{SCHEMA}.{SYNCED_TABLE_NAME}\"  # can be dropped\n",
    "TRIPLE_TABLE_FULL_NAME = TRIPLE_TABLE\n",
    "\n",
    "# The table below will be used to store RDF definitions \n",
    "DIGITAL_TWIN_TABLE = \"rdf_models\""
   ]
  },
  {
   "cell_type": "code",
   "execution_count": 0,
   "metadata": {
    "application/vnd.databricks.v1+cell": {
     "cellMetadata": {},
     "inputWidgets": {},
     "nuid": "3c3f5a5b-7a08-4088-9c5f-c4498409b402",
     "showTitle": false,
     "tableResultSettingsMap": {},
     "title": ""
    }
   },
   "outputs": [],
   "source": [
    "APP_NAME = \"mywonderfulappname\"  #App name must contain only lowercase letters, numbers, and dashes\n",
    "WAREHOUSE_ID = \"warehouse-id\"  #https://docs.databricks.com/aws/en/integrations/compute-details"
   ]
  }
 ],
 "metadata": {
  "application/vnd.databricks.v1+notebook": {
   "computePreferences": {
    "hardware": {
     "accelerator": null,
     "gpuPoolId": null,
     "memory": null
    }
   },
   "dashboards": [],
   "environmentMetadata": {
    "base_environment": "",
    "environment_version": "3"
   },
   "inputWidgetPreferences": null,
   "language": "python",
   "notebookMetadata": {
    "pythonIndentUnit": 2
   },
   "notebookName": "0-Parameters",
   "widgets": {}
  },
  "kernelspec": {
   "display_name": "Python 3",
   "language": "python",
   "name": "python3"
  },
  "language_info": {
   "name": "python"
  }
 },
 "nbformat": 4,
 "nbformat_minor": 0
}
