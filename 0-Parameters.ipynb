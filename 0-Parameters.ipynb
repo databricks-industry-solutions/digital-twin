{
 "cells": [
  {
   "cell_type": "markdown",
   "metadata": {
    "application/vnd.databricks.v1+cell": {
     "cellMetadata": {},
     "inputWidgets": {},
     "nuid": "80911a51-f640-4945-a747-dc14b4ac1e39",
     "showTitle": false,
     "tableResultSettingsMap": {},
     "title": ""
    }
   },
   "source": [
    "## Parameters\n",
    "This notebook contains the parameters needed to customise the solution accelerator to you environment. Be sure to modify them before starting to ensure that the accelerator deploys correctly."
   ]
  },
  {
   "cell_type": "code",
   "execution_count": null,
   "metadata": {},
   "outputs": [
    {
     "ename": "",
     "evalue": "",
     "output_type": "error",
     "traceback": [
      "\u001b[1;31mRunning cells with '.conda (Python 3.12.11)' requires the ipykernel package.\n",
      "\u001b[1;31mInstall 'ipykernel' into the Python environment. \n",
      "\u001b[1;31mCommand: 'conda install -p /Users/matteo/Library/CloudStorage/GoogleDrive-matteo.landro@databricks.com/My Drive/My Notes/VS /digital-twin-repo/digital-twin/.conda ipykernel --update-deps --force-reinstall'"
     ]
    }
   ],
   "source": [
    "BRONZE_TABLE = \"shinkansen.default.joshua_green\""
   ]
  },
  {
   "cell_type": "code",
   "execution_count": null,
   "metadata": {},
   "outputs": [],
   "source": [
    "PAT = \"\"\n",
    "WORKSPACE_URL = \"https://dbc-e2f0eb31-2b0e.staging.cloud.databricks.com\"\n",
    "ZEROBUS_URL = \"ingest.staging.cloud.databricks.com\""
   ]
  },
  {
   "cell_type": "code",
   "execution_count": null,
   "metadata": {},
   "outputs": [],
   "source": [
    "MAPPING_PIPELINE_NAME = \"digital-twins-mapping\"\n",
    "TRIPLE_CATALOG = \"main\"\n",
    "TRIPLE_SCHEMA = \"joshua_green\"\n",
    "TRIPLE_TABLE = \"triples\""
   ]
  },
  {
   "cell_type": "code",
   "execution_count": null,
   "metadata": {},
   "outputs": [],
   "source": [
    "INSTANCE_NAME = \"digitwin\"\n",
    "PG_DATABASE_NAME = \"digitwin\"\n",
    "SYNCED_TABLE_CATALOG = \"main\"\n",
    "SYNCED_TABLE_SCHEMA = \"joshua_green\"\n",
    "SYNCED_TABLE_NAME = \"latest_sensor_triples\"\n",
    "SYNCED_TABLE_FULL_NAME = f\"{SYNCED_TABLE_CATALOG}.{SYNCED_TABLE_SCHEMA}.{SYNCED_TABLE_NAME}\"\n",
    "TRIPLE_TABLE_FULL_NAME = f\"{TRIPLE_CATALOG}.{TRIPLE_SCHEMA}.{TRIPLE_TABLE}\"\n",
    "\n"
   ]
  },
  {
   "cell_type": "code",
   "execution_count": null,
   "metadata": {},
   "outputs": [],
   "source": [
    "APP_NAME = \"digital-twins-app\"\n",
    "APP_SRC_CODE_PATH = \"/Workspace/Users/joshua.green@databricks.com/databricks_apps/triple-serving_2025_07_29-14_54/flask-database-app\"\n",
    "WAREHOUSE_ID = \"dd43ee29fedd958d\""
   ]
  }
 ],
 "metadata": {
  "application/vnd.databricks.v1+notebook": {
   "computePreferences": null,
   "dashboards": [],
   "environmentMetadata": {
    "base_environment": "",
    "environment_version": "3"
   },
   "inputWidgetPreferences": null,
   "language": "python",
   "notebookMetadata": {
    "pythonIndentUnit": 2
   },
   "notebookName": "0-Parameters",
   "widgets": {}
  },
  "kernelspec": {
   "display_name": "Python 3",
   "language": "python",
   "name": "python3"
  },
  "language_info": {
   "name": "python",
   "version": "3.12.11"
  }
 },
 "nbformat": 4,
 "nbformat_minor": 0
}
