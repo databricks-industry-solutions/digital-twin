{
 "cells": [
  {
   "cell_type": "markdown",
   "metadata": {
    "application/vnd.databricks.v1+cell": {
     "cellMetadata": {},
     "inputWidgets": {},
     "nuid": "80911a51-f640-4945-a747-dc14b4ac1e39",
     "showTitle": false,
     "tableResultSettingsMap": {},
     "title": ""
    }
   },
   "source": [
    "## Parameters\n",
    "This notebook contains the parameters needed to customise the solution accelerator to you environment. Be sure to modify them before starting to ensure that the accelerator deploys correctly."
   ]
  },
  {
   "cell_type": "code",
   "execution_count": null,
   "metadata": {},
   "outputs": [],
   "source": [
    "BRONZE_TABLE = \"your_catalog.your_schema.your_table\""
   ]
  },
  {
   "cell_type": "code",
   "execution_count": null,
   "metadata": {},
   "outputs": [],
   "source": [
    "PAT = \"your_PAT\"\n",
    "CLIENT_ID = \"your_client_ID\"\n",
    "CLIENT_SECRET= \"your_client_secret\"\n",
    "WORKSPACE_URL = \"your_workspace_url\"\n",
    "ZEROBUS_URL = \"your_zerobus_url\""
   ]
  },
  {
   "cell_type": "code",
   "execution_count": null,
   "metadata": {},
   "outputs": [],
   "source": [
    "MAPPING_PIPELINE_NAME = \"digital-twins-mapping\"\n",
    "TRIPLE_CATALOG = \"main\"\n",
    "TRIPLE_SCHEMA = \"joshua_green\"\n",
    "TRIPLE_TABLE = \"triples\""
   ]
  },
  {
   "cell_type": "code",
   "execution_count": null,
   "metadata": {},
   "outputs": [],
   "source": [
    "INSTANCE_NAME = \"digitwin\"\n",
    "PG_DATABASE_NAME = \"digitwin\"\n",
    "SYNCED_TABLE_CATALOG = \"main\"\n",
    "SYNCED_TABLE_SCHEMA = \"joshua_green\"\n",
    "SYNCED_TABLE_NAME = \"latest_sensor_triples\"\n",
    "SYNCED_TABLE_FULL_NAME = f\"{SYNCED_TABLE_CATALOG}.{SYNCED_TABLE_SCHEMA}.{SYNCED_TABLE_NAME}\"\n",
    "TRIPLE_TABLE_FULL_NAME = f\"{TRIPLE_CATALOG}.{TRIPLE_SCHEMA}.{TRIPLE_TABLE}\"\n",
    "\n",
    "DIGITAL_TWIN_TABLE = \"rdf_models\""
   ]
  },
  {
   "cell_type": "code",
   "execution_count": null,
   "metadata": {},
   "outputs": [],
   "source": [
    "APP_NAME = \"digital-twins-app\"\n",
    "APP_SRC_CODE_PATH = \"/Workspace/Users/naim.achahboun@databricks.com/digital-twin-feature-env/deployment-staging/\"\n",
    "WAREHOUSE_ID = \"your_warehouse_id\""
   ]
  }
 ],
 "metadata": {
  "application/vnd.databricks.v1+notebook": {
   "computePreferences": null,
   "dashboards": [],
   "environmentMetadata": {
    "base_environment": "",
    "environment_version": "3"
   },
   "inputWidgetPreferences": null,
   "language": "python",
   "notebookMetadata": {
    "pythonIndentUnit": 2
   },
   "notebookName": "0-Parameters",
   "widgets": {}
  },
  "kernelspec": {
   "display_name": "Python 3",
   "language": "python",
   "name": "python3"
  },
  "language_info": {
   "name": "python",
   "version": "3.12.11"
  }
 },
 "nbformat": 4,
 "nbformat_minor": 0
}
