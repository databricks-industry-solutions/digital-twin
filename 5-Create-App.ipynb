{
 "cells": [
  {
   "cell_type": "code",
   "execution_count": 0,
   "metadata": {
    "application/vnd.databricks.v1+cell": {
     "cellMetadata": {
      "byteLimit": 2048000,
      "rowLimit": 10000
     },
     "inputWidgets": {},
     "nuid": "263a5a70-daf9-4e1c-a921-fb9b851090e3",
     "showTitle": true,
     "tableResultSettingsMap": {},
     "title": "Install packages"
    }
   },
   "outputs": [],
   "source": [
    "%pip install --upgrade databricks-sdk>=0.61.0 psycopg pyyaml\n",
    "%restart_python"
   ]
  },
  {
   "cell_type": "code",
   "execution_count": 0,
   "metadata": {
    "application/vnd.databricks.v1+cell": {
     "cellMetadata": {
      "byteLimit": 2048000,
      "rowLimit": 10000
     },
     "inputWidgets": {},
     "nuid": "34f764df-bc61-476c-ba54-10016531c31f",
     "showTitle": true,
     "tableResultSettingsMap": {},
     "title": "Import common paramters"
    }
   },
   "outputs": [
    {
     "data": {
      "text/markdown": [
       "## Parameters\n",
       "This notebook contains the parameters needed to customise the solution accelerator to you environment. Be sure to modify them before starting to ensure that the accelerator deploys correctly."
      ]
     },
     "metadata": {},
     "output_type": "display_data"
    }
   ],
   "source": [
    "%run ./0-Parameters"
   ]
  },
  {
   "cell_type": "code",
   "execution_count": 0,
   "metadata": {
    "application/vnd.databricks.v1+cell": {
     "cellMetadata": {
      "byteLimit": 2048000,
      "rowLimit": 10000
     },
     "inputWidgets": {},
     "nuid": "267466e4-3f2f-4f41-a194-a70bd4b2960f",
     "showTitle": true,
     "tableResultSettingsMap": {},
     "title": "Imports"
    }
   },
   "outputs": [],
   "source": [
    "from databricks.sdk import WorkspaceClient\n",
    "from databricks.sdk.errors.platform import NotFound\n",
    "from databricks.sdk.service.apps import App, AppResource, AppResourceDatabase, AppResourceDatabaseDatabasePermission, \\\n",
    "    AppResourceSqlWarehouse, AppResourceSqlWarehouseSqlWarehousePermission\n",
    "from databricks.sdk.service.catalog import PermissionsChange, Privilege\n",
    "import psycopg\n",
    "import yaml\n",
    "import uuid\n",
    "\n",
    "w = WorkspaceClient()"
   ]
  },
  {
   "cell_type": "code",
   "execution_count": 0,
   "metadata": {
    "application/vnd.databricks.v1+cell": {
     "cellMetadata": {},
     "inputWidgets": {},
     "nuid": "a130b199-2b97-4652-bad5-ec6a280f55a5",
     "showTitle": false,
     "tableResultSettingsMap": {},
     "title": ""
    }
   },
   "outputs": [],
   "source": [
    "#We generate the app.yaml file from the parameters notebook \n",
    "app_yaml = {\n",
    "    'command': ['python', 'server.py'],\n",
    "    'env': [\n",
    "        {'name': 'WAREHOUSE_ID',\n",
    "         'valueFrom': 'sql_warehouse'},\n",
    "        {'name': 'SYNCED_TABLE_FULL_NAME',\n",
    "         'value': SYNCED_TABLE_FULL_NAME},\n",
    "        {'name': 'TRIPLE_TABLE_FULL_NAME',\n",
    "         'value': TRIPLE_TABLE_FULL_NAME},\n",
    "    ]\n",
    "}\n",
    "\n",
    "##with open(\"serving-app/app.yaml\", \"w\") as f:\n",
    "##    yaml.dump(app_yaml, f)"
   ]
  },
  {
   "cell_type": "markdown",
   "metadata": {
    "application/vnd.databricks.v1+cell": {
     "cellMetadata": {},
     "inputWidgets": {},
     "nuid": "47de2e90-ecaf-4ea7-9d94-54798f59920f",
     "showTitle": false,
     "tableResultSettingsMap": {},
     "title": ""
    }
   },
   "source": [
    "### Setting up the app \n",
    "In the cell below, we generate the configuration of the Databricks app and deploy it. \n",
    "Afterwards we make sure the service principal of the app has the required permissions on the tables/schema's. "
   ]
  },
  {
   "cell_type": "code",
   "execution_count": 0,
   "metadata": {
    "application/vnd.databricks.v1+cell": {
     "cellMetadata": {
      "byteLimit": 2048000,
      "rowLimit": 10000
     },
     "inputWidgets": {},
     "nuid": "0a42c6aa-20c7-4ac5-ac36-6eac3adf1ad1",
     "showTitle": true,
     "tableResultSettingsMap": {},
     "title": "Create app"
    }
   },
   "outputs": [],
   "source": [
    "\n",
    "app_conf = App(\n",
    "    name=APP_NAME,\n",
    "    default_source_code_path=APP_SRC_CODE_PATH,\n",
    "    description=\"SPARQL query frontend\",\n",
    "    # effective_user_api_scopes=[\"iam.current-user:read\", \"iam.access-control:read\"],\n",
    "    resources=[\n",
    "        AppResource(\n",
    "            name=\"database\",\n",
    "            database=AppResourceDatabase(\n",
    "                instance_name=INSTANCE_NAME,\n",
    "                database_name=PG_DATABASE_NAME,\n",
    "                permission=AppResourceDatabaseDatabasePermission.CAN_CONNECT_AND_CREATE,\n",
    "            ),\n",
    "            description=\"Low latency serving of latest triples.\",\n",
    "        ),\n",
    "        AppResource(\n",
    "            name=\"sql_warehouse\",\n",
    "            sql_warehouse=AppResourceSqlWarehouse(\n",
    "                id=WAREHOUSE_ID,\n",
    "                permission=AppResourceSqlWarehouseSqlWarehousePermission.CAN_USE,\n",
    "            ),\n",
    "            description=\"Serving of all historical data.\",\n",
    "        ),\n",
    "    ],\n",
    ")\n",
    "\n",
    "try:\n",
    "    app = w.apps.get(APP_NAME)\n",
    "    print(f\"App {app.name} already exists\")\n",
    "except NotFound:\n",
    "    app = w.apps.create_and_wait(app_conf)\n",
    "    print(f\"Created app {app.name}\")\n",
    "\n"
   ]
  },
  {
   "cell_type": "code",
   "execution_count": null,
   "metadata": {},
   "outputs": [],
   "source": [
    "#Replace the templated app url with the generated app url \n",
    "import os\n",
    "\n",
    "js_dir = \"./deployment-staging/dist\"\n",
    "js_files = []\n",
    "for root, _, files in os.walk(js_dir):\n",
    "    js_files.extend([os.path.join(root, f) for f in files if f.endswith('.js')])\n",
    "\n",
    "for js_path in js_files:\n",
    "    with open(js_path, \"r\", encoding=\"utf-8\") as file:\n",
    "        content = file.read()\n",
    "    # Replace the specific URL with app.url\n",
    "    updated_content = content.replace(\"https://example.com/api\", app.url)\n",
    "    with open(js_path, \"w\", encoding=\"utf-8\") as file:\n",
    "        file.write(updated_content)"
   ]
  },
  {
   "cell_type": "code",
   "execution_count": null,
   "metadata": {},
   "outputs": [],
   "source": [
    "#Deploy the app \n",
    "try:\n",
    "    app = w.apps.deploy(APP_NAME)\n",
    "    print(f\"App {APP_NAME} has been deployed\")\n",
    "except:\n",
    "    print(f\"Failed to (re)deploy {APP_NAME}\")"
   ]
  },
  {
   "cell_type": "code",
   "execution_count": 0,
   "metadata": {
    "application/vnd.databricks.v1+cell": {
     "cellMetadata": {
      "byteLimit": 2048000,
      "rowLimit": 10000
     },
     "inputWidgets": {},
     "nuid": "9fe6d56e-8844-4963-af79-fc190deb320a",
     "showTitle": true,
     "tableResultSettingsMap": {},
     "title": "Grant app SP access to the tables"
    }
   },
   "outputs": [],
   "source": [
    "r1 = w.grants.update(\n",
    "    \"TABLE\",\n",
    "    SYNCED_TABLE_FULL_NAME,\n",
    "    changes=[\n",
    "        PermissionsChange(\n",
    "            principal=app.service_principal_client_id,\n",
    "            add=[Privilege.SELECT],\n",
    "        )\n",
    "    ],\n",
    ")\n",
    "\n",
    "r2 = w.grants.update(\n",
    "    \"TABLE\",\n",
    "    TRIPLE_TABLE_FULL_NAME,\n",
    "    changes=[\n",
    "        PermissionsChange(\n",
    "            principal=app.service_principal_client_id,\n",
    "            add=[Privilege.SELECT],\n",
    "        )\n",
    "    ],\n",
    ")"
   ]
  },
  {
   "cell_type": "code",
   "execution_count": 0,
   "metadata": {
    "application/vnd.databricks.v1+cell": {
     "cellMetadata": {
      "byteLimit": 2048000,
      "rowLimit": 10000
     },
     "inputWidgets": {},
     "nuid": "b09d119d-84ce-4b8e-a869-0dc9942843b2",
     "showTitle": true,
     "tableResultSettingsMap": {},
     "title": "Grant app SP access to synced table"
    }
   },
   "outputs": [],
   "source": [
    "instance = w.database.get_database_instance(INSTANCE_NAME)\n",
    "cred = w.database.generate_database_credential(\n",
    "    request_id=str(uuid.uuid4()), instance_names=[instance.name]\n",
    ")\n",
    "current_user = (\n",
    "    dbutils.notebook.entry_point.getDbutils()\n",
    "    .notebook()\n",
    "    .getContext()\n",
    "    .userName()\n",
    "    .getOrElse(None)\n",
    ")\n",
    "\n",
    "conn_conf = {\n",
    "    \"host\": instance.read_write_dns,\n",
    "    \"port\": 5432,\n",
    "    \"dbname\": PG_DATABASE_NAME,\n",
    "    \"user\": current_user,\n",
    "    \"password\": cred.token,\n",
    "    \"sslmode\": \"require\",\n",
    "    \"autocommit\": True,\n",
    "}\n",
    "\n",
    "grants = f\"\"\"\n",
    "GRANT USAGE ON SCHEMA {SYNCED_TABLE_SCHEMA} TO \"{app.service_principal_client_id}\";\n",
    "GRANT SELECT ON TABLE {SYNCED_TABLE_SCHEMA}.{SYNCED_TABLE_NAME} TO \"{app.service_principal_client_id}\";\n",
    "\"\"\"\n",
    "\n",
    "with psycopg.connect(**conn_conf) as conn:\n",
    "    with conn.cursor() as cur:\n",
    "        cur.execute(grants)"
   ]
  },
  {
   "cell_type": "code",
   "execution_count": 0,
   "metadata": {
    "application/vnd.databricks.v1+cell": {
     "cellMetadata": {
      "byteLimit": 2048000,
      "rowLimit": 10000
     },
     "inputWidgets": {},
     "nuid": "9c7554ef-6d7f-4bfa-919d-9a99ace3c979",
     "showTitle": false,
     "tableResultSettingsMap": {},
     "title": ""
    }
   },
   "outputs": [],
   "source": [
    "#Create digital twin tables \n",
    "DIGITAL_TWIN_SCHEMA = \"digital_twin\"\n",
    "DIGITAL_TWIN_TABLE = \"digital_twins\"\n",
    "\n",
    "DDL_CREATE_TABLE = f\"\"\"\n",
    " CREATE TABLE IF NOT EXISTS {DIGITAL_TWIN_SCHEMA}.{DIGITAL_TWIN_TABLE} (\n",
    "                id SERIAL PRIMARY KEY,\n",
    "                name VARCHAR(255) NOT NULL UNIQUE,\n",
    "                description TEXT,\n",
    "                category VARCHAR(50) DEFAULT 'user',\n",
    "                is_template BOOLEAN DEFAULT FALSE,\n",
    "                content TEXT NOT NULL,\n",
    "                creator VARCHAR(255),\n",
    "                created_at TIMESTAMP DEFAULT CURRENT_TIMESTAMP,\n",
    "                updated_at TIMESTAMP DEFAULT CURRENT_TIMESTAMP,\n",
    "                metadata JSONB DEFAULT '{{}}',\n",
    "                tags TEXT[] DEFAULT ARRAY[]::TEXT[]\n",
    "            );\n",
    "\n",
    "            -- Create indexes for better performance\n",
    "            CREATE INDEX IF NOT EXISTS idx_rdf_models_category ON {DIGITAL_TWIN_SCHEMA}.{DIGITAL_TWIN_TABLE} (category);\n",
    "            CREATE INDEX IF NOT EXISTS idx_rdf_models_is_template ON {DIGITAL_TWIN_SCHEMA}.{DIGITAL_TWIN_TABLE} (is_template);\n",
    "            CREATE INDEX IF NOT EXISTS idx_rdf_models_creator ON {DIGITAL_TWIN_SCHEMA}.{DIGITAL_TWIN_TABLE} (creator);\n",
    "            CREATE INDEX IF NOT EXISTS idx_rdf_models_created_at ON {DIGITAL_TWIN_SCHEMA}.{DIGITAL_TWIN_TABLE} (created_at DESC);\n",
    "\n",
    "GRANT USAGE ON SCHEMA {DIGITAL_TWIN_SCHEMA} TO \"{app.service_principal_client_id}\";\n",
    "GRANT ALL PRIVILEGES ON TABLE {DIGITAL_TWIN_SCHEMA}.{DIGITAL_TWIN_TABLE} TO \"{app.service_principal_client_id}\";\n",
    "\"\"\"\n",
    "\n",
    "with psycopg.connect(**conn_conf) as conn:\n",
    "    with conn.cursor() as cur:\n",
    "        cur.execute(DDL_CREATE_TABLE)"
   ]
  }
 ],
 "metadata": {
  "application/vnd.databricks.v1+notebook": {
   "computePreferences": null,
   "dashboards": [],
   "environmentMetadata": null,
   "inputWidgetPreferences": null,
   "language": "python",
   "notebookMetadata": {
    "pythonIndentUnit": 2
   },
   "notebookName": "5-Create-App",
   "widgets": {}
  },
  "language_info": {
   "name": "python"
  }
 },
 "nbformat": 4,
 "nbformat_minor": 0
}
